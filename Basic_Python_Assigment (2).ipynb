{
  "nbformat": 4,
  "nbformat_minor": 0,
  "metadata": {
    "colab": {
      "provenance": []
    },
    "kernelspec": {
      "name": "python3",
      "display_name": "Python 3"
    },
    "language_info": {
      "name": "python"
    }
  },
  "cells": [
    {
      "cell_type": "markdown",
      "source": [
        "# Basic Of Python\n"
      ],
      "metadata": {
        "id": "UKuBkkOenVb7"
      }
    },
    {
      "cell_type": "markdown",
      "source": [
        " 1.What is Python, and why is it popular?\n",
        "\n",
        " --> Python is high level, interpreted programming language know for its simplicity readability and versatility, it is designed to be easy to understand and write, making it ideal foe beginners as well as professionals.\n",
        " python is popular because it is simple , powerful, and dlesible with a rich ecosystem and strong community support , marking it suitable for beginners alike.\n",
        "\n",
        "\n",
        " 2. What is an interpreter in Python?\n",
        "\n",
        " --> An interpreter in Python is a program that reads and executes Python code line by line, converting it into machine-understandable instructions.\n"
      ],
      "metadata": {
        "id": "WWbno36Inegm"
      }
    },
    {
      "cell_type": "code",
      "execution_count": 16,
      "metadata": {
        "colab": {
          "base_uri": "https://localhost:8080/"
        },
        "id": "4dazdm4FnJoH",
        "outputId": "2f00f080-d470-42a5-abd4-238be945d2d6"
      },
      "outputs": [
        {
          "output_type": "stream",
          "name": "stdout",
          "text": [
            "helle world\n"
          ]
        }
      ],
      "source": [
        "#Example\n",
        "print('helle world')"
      ]
    },
    {
      "cell_type": "markdown",
      "source": [
        "3. What are pre-defined keywords in Python?\n",
        "\n",
        "\n",
        "\n",
        "\n",
        "--> Pre defined keywords in python are resreved words that that have special meaning in the language. You cannot use then as varible names , function names or identifiers beacuse python uses them to define syntax and strature."
      ],
      "metadata": {
        "id": "NhmzW489sOe_"
      }
    },
    {
      "cell_type": "code",
      "source": [
        "#importing all pre defined keywords in python\n",
        "import keyword\n",
        "print(keyword.kwlist)"
      ],
      "metadata": {
        "colab": {
          "base_uri": "https://localhost:8080/"
        },
        "id": "dPLhhzjEterW",
        "outputId": "f4bf4e8d-6ba2-462e-b755-8cbc686761d4"
      },
      "execution_count": 17,
      "outputs": [
        {
          "output_type": "stream",
          "name": "stdout",
          "text": [
            "['False', 'None', 'True', 'and', 'as', 'assert', 'async', 'await', 'break', 'class', 'continue', 'def', 'del', 'elif', 'else', 'except', 'finally', 'for', 'from', 'global', 'if', 'import', 'in', 'is', 'lambda', 'nonlocal', 'not', 'or', 'pass', 'raise', 'return', 'try', 'while', 'with', 'yield']\n"
          ]
        }
      ]
    },
    {
      "cell_type": "markdown",
      "source": [
        "4. Can keywords be used as varible names?\n",
        "\n",
        "\n",
        "--> No, keywords cannot be used as variable names in Python.beacause Keyword are reseved words that pythin uses to define it syntax and rules.using them as variable names will cause a syntax error\n",
        "\n",
        "5. What is mutability in python?\n",
        "\n",
        "\n",
        "-->  mutability refers to whether an object's value can be after it is created."
      ],
      "metadata": {
        "id": "uURTkShatv8u"
      }
    },
    {
      "cell_type": "code",
      "source": [
        "#Example of muatable\n",
        "my_list = [1, 2, 3]\n",
        "my_list[2] = 10\n",
        "print(my_list)"
      ],
      "metadata": {
        "colab": {
          "base_uri": "https://localhost:8080/"
        },
        "id": "t7ExC19fxd56",
        "outputId": "3296a302-7d5f-400d-a956-350f24dbcb68"
      },
      "execution_count": 18,
      "outputs": [
        {
          "output_type": "stream",
          "name": "stdout",
          "text": [
            "[1, 2, 10]\n"
          ]
        }
      ]
    },
    {
      "cell_type": "markdown",
      "source": [
        "6. Why are lists mutable, but tuples are immutable?\n",
        "\n",
        "\n",
        "--> Lists are designed to hold a collection of items that you may need to change, add, remove, update. in other word Lists are used when you need a flexible, editable and colection.\n",
        "\n",
        "Tuples are made for fixed data collection where values should not change after creation. In other word Turples are used when you want a constant set of values like coordinates or settings.\n",
        "\n",
        "\n",
        "7.What is the difference between “==” and “is” operators in Python?\n",
        "\n",
        "\n",
        "--> Both == and is are comparison operators but they different thing: Equality operaters(==) checks if the values are equal and caompares the contents of two variables.\n",
        "\n",
        "Were, Identity Opertor(is) checks if two varibale point to the smae object in memory and compare the identity memory location."
      ],
      "metadata": {
        "id": "NCjoNF4Px3F9"
      }
    },
    {
      "cell_type": "code",
      "source": [
        "# == (Equality Opeator)\n",
        "a = [1, 2, 3]\n",
        "b = [1, 2, 3,]\n",
        "print(a == b)\n"
      ],
      "metadata": {
        "colab": {
          "base_uri": "https://localhost:8080/"
        },
        "id": "Cbzi9Sue3eQ6",
        "outputId": "ad442936-58a7-4e8e-bfa7-473520b837a2"
      },
      "execution_count": 19,
      "outputs": [
        {
          "output_type": "stream",
          "name": "stdout",
          "text": [
            "True\n"
          ]
        }
      ]
    },
    {
      "cell_type": "code",
      "source": [
        "# is (Identity Operator)\n",
        "a = [1, 2, 3,]\n",
        "b = [1, 2, 3,]\n",
        "print(a is b)\n",
        "c = a\n",
        "print(a is c)"
      ],
      "metadata": {
        "colab": {
          "base_uri": "https://localhost:8080/"
        },
        "id": "v53kbTlc4Gmc",
        "outputId": "d9cf221e-3c96-43db-d190-836e135969c1"
      },
      "execution_count": 20,
      "outputs": [
        {
          "output_type": "stream",
          "name": "stdout",
          "text": [
            "False\n",
            "True\n"
          ]
        }
      ]
    },
    {
      "cell_type": "markdown",
      "source": [
        "8. 8 What are logical operators in Python?\n",
        "\n",
        "\n",
        "--> Logical operators in Python are used to combine multiple conditions (Boolean expressions). They return True or False based on the logic applied.\n",
        "\n",
        "\n",
        "\n"
      ],
      "metadata": {
        "id": "mSzmU3pb4pPs"
      }
    },
    {
      "cell_type": "code",
      "source": [
        "#Example in code\n",
        "a = 15\n",
        "b = 5\n",
        "\n",
        "# and\n",
        "print(a > 5 and b < 10)\n",
        "\n",
        "# or\n",
        "print(a > 5 or b < 10)\n",
        "\n",
        "# not\n",
        "print(not(a > 5 and b < 10))"
      ],
      "metadata": {
        "colab": {
          "base_uri": "https://localhost:8080/"
        },
        "id": "TsC7iB_oH31d",
        "outputId": "cba10617-01a8-47c9-8eb2-b7e48034c631"
      },
      "execution_count": 21,
      "outputs": [
        {
          "output_type": "stream",
          "name": "stdout",
          "text": [
            "True\n",
            "True\n",
            "False\n"
          ]
        }
      ]
    },
    {
      "cell_type": "markdown",
      "source": [
        "9. What is type casting in Python ?\n",
        "\n",
        "\n",
        "--> Type casting in Python means converting one data type to another. it is Used  when you need to control data types for calculations, comparisons, or formatting.\n",
        "\n",
        "10.  What is the difference between implicit and explicit type casting ?\n",
        "\n",
        "\n",
        "\n",
        "--> The main differnce between in implicit and explicit typr casting in python is that Implicit type casting is  automatic and safe and done by python. Python automatically covert one type to anthoer when needed and\n",
        "\n",
        "In Explicit casting is not automatic and it done by you use the fuction to force a conversion. other words explicit is manual and give more controal but needs care.\n",
        "\n",
        "\n",
        "\n",
        "\n",
        "\n",
        "\n"
      ],
      "metadata": {
        "id": "tAo2HBzsI8kO"
      }
    },
    {
      "cell_type": "code",
      "source": [
        "# Implicit Type casting\n",
        "\n",
        "a = 5      # int\n",
        "b = 2.4    # float\n",
        "result = a + b  # a is implicitly converted to float\n",
        "print(result)"
      ],
      "metadata": {
        "colab": {
          "base_uri": "https://localhost:8080/"
        },
        "id": "6ZXRJIdrdejh",
        "outputId": "35ea4f81-abb0-4eb7-e19f-7059a6555647"
      },
      "execution_count": 22,
      "outputs": [
        {
          "output_type": "stream",
          "name": "stdout",
          "text": [
            "7.4\n"
          ]
        }
      ]
    },
    {
      "cell_type": "markdown",
      "source": [
        "  11. What is the purpose of conditional statements in Python ?\n",
        "\n",
        "\n",
        "  --> Conditional statements in Python are used to make decisions in your program based on whether a condition is True or False. The main purpose Conditional statements in Python are used to make decisions in your program based on whether a condition is True or False.\n",
        "\n",
        "  12. How does the elif statement work ?\n",
        "\n",
        "  \n",
        "\n",
        "  --> The elif (short for \"else if\") statement is used to check multiple conditions after an initial if. elif is use to test another condition if the previous if (or elif) was false and allow multiple decision paths.\n",
        "\n"
      ],
      "metadata": {
        "id": "ES-Ry946eC04"
      }
    },
    {
      "cell_type": "code",
      "source": [
        "# Example\n",
        "marks = 85\n",
        "\n",
        "if marks >= 90:\n",
        "    print(\"Grade: A\")\n",
        "elif marks >= 80:\n",
        "    print(\"Grade: B\")\n",
        "elif marks >= 70:\n",
        "    print(\"Grade: C\")\n",
        "elif marks >= 60:\n",
        "    print(\"Grade: D\")\n",
        "else:\n",
        "    print(\"Grade: F\")"
      ],
      "metadata": {
        "id": "hCk7PWGNgUPC",
        "colab": {
          "base_uri": "https://localhost:8080/"
        },
        "outputId": "7b48155f-4483-416e-c175-e8c259c28cc0"
      },
      "execution_count": 23,
      "outputs": [
        {
          "output_type": "stream",
          "name": "stdout",
          "text": [
            "Grade: B\n"
          ]
        }
      ]
    },
    {
      "cell_type": "markdown",
      "source": [
        " 13.    What is the difference between for and while loops ?\n",
        "\n",
        "\n",
        "\n",
        " -->  Both (for) and (while) loops are used to repeat a block of code but the work differntly.\n",
        "\n",
        "  for Loop is used when you know in advance how many time to loop, Iterates over a sequence like a list, string, or range\n",
        "\n",
        "  while Loop is used when you want to loop until a condition become false. in other words it repeats as long as the conditon is true."
      ],
      "metadata": {
        "id": "KO1s5Ndui-fH"
      }
    },
    {
      "cell_type": "code",
      "source": [
        "# exmaple for for loop\n",
        "for i in range(9):\n",
        "    print(i)\n"
      ],
      "metadata": {
        "colab": {
          "base_uri": "https://localhost:8080/"
        },
        "id": "e6e6pMxulJi9",
        "outputId": "8cf38e02-1ae4-48e4-e3e3-a1bfeb514368"
      },
      "execution_count": 24,
      "outputs": [
        {
          "output_type": "stream",
          "name": "stdout",
          "text": [
            "0\n",
            "1\n",
            "2\n",
            "3\n",
            "4\n",
            "5\n",
            "6\n",
            "7\n",
            "8\n"
          ]
        }
      ]
    },
    {
      "cell_type": "code",
      "source": [
        "# example for while loop\n",
        "i = 0\n",
        "while i < 9:\n",
        "  print(i)\n",
        "  i += 1"
      ],
      "metadata": {
        "colab": {
          "base_uri": "https://localhost:8080/"
        },
        "id": "7IDy8X7KlVKm",
        "outputId": "3c13e152-aee8-429b-d228-1dd95b80a6dc"
      },
      "execution_count": 25,
      "outputs": [
        {
          "output_type": "stream",
          "name": "stdout",
          "text": [
            "0\n",
            "1\n",
            "2\n",
            "3\n",
            "4\n",
            "5\n",
            "6\n",
            "7\n",
            "8\n"
          ]
        }
      ]
    },
    {
      "cell_type": "markdown",
      "source": [
        "  14.  Describe a scenario where a while loop is more suitable than a for loop?\n",
        "  \n",
        "\n",
        "  --> When you don’t know how many times the loop should run — you just want it to continue until a condition changes. the end condition is not based on a fixed count and you rely on reel time inputs, sensor data or dynamic values. a while loop is best when you only know when to stop.\n",
        "\n"
      ],
      "metadata": {
        "id": "EuWH223FmS5n"
      }
    },
    {
      "cell_type": "code",
      "source": [
        "correct_password = \"rahul123\"\n",
        "user_input = \"\"\n",
        "\n",
        "while user_input != correct_password:\n",
        "  user_input = input(\"Enter the password: \")\n",
        "\n",
        "print(\"Access granted!\")"
      ],
      "metadata": {
        "colab": {
          "base_uri": "https://localhost:8080/"
        },
        "id": "8nna8xtxpFOp",
        "outputId": "078ab32a-5971-425f-a5fe-02d459d58240"
      },
      "execution_count": 26,
      "outputs": [
        {
          "output_type": "stream",
          "name": "stdout",
          "text": [
            "Enter the password: rahul123\n",
            "Access granted!\n"
          ]
        }
      ]
    },
    {
      "cell_type": "markdown",
      "source": [
        "# Python basic Assignment(Pratical)\n"
      ],
      "metadata": {
        "id": "kFAOtumvp9hr"
      }
    },
    {
      "cell_type": "code",
      "source": [
        "# 1. Write a Python program to print \"Hello, World!y?\n",
        "print(\"Hello , World!\")"
      ],
      "metadata": {
        "colab": {
          "base_uri": "https://localhost:8080/"
        },
        "id": "Nw6mp1wttDhc",
        "outputId": "96b677b1-0ba2-4424-ec84-8808b49a0df2"
      },
      "execution_count": 27,
      "outputs": [
        {
          "output_type": "stream",
          "name": "stdout",
          "text": [
            "Hello , World!\n"
          ]
        }
      ]
    },
    {
      "cell_type": "code",
      "source": [
        "# 2. Write a Python program that displays your name and age?\n",
        "name = \"Rahul Yadav\"\n",
        "age = 21\n",
        "\n",
        "print(\" My name is\", name)\n",
        "print(\"I am\", age, \"years old\")\n"
      ],
      "metadata": {
        "colab": {
          "base_uri": "https://localhost:8080/"
        },
        "id": "_kZ0nbENtQBg",
        "outputId": "28e71503-12e4-4460-f1ae-57c212c7c018"
      },
      "execution_count": 28,
      "outputs": [
        {
          "output_type": "stream",
          "name": "stdout",
          "text": [
            " My name is Rahul Yadav\n",
            "I am 21 years old\n"
          ]
        }
      ]
    },
    {
      "cell_type": "code",
      "source": [
        "# 3. Write code to print all the pre-defined keywords in Python using the keyword library8 ?\n",
        "import keyword\n",
        "print(keyword.kwlist)\n"
      ],
      "metadata": {
        "colab": {
          "base_uri": "https://localhost:8080/"
        },
        "id": "CatphNVFukJ-",
        "outputId": "35ba1f1a-bb0f-4a94-d336-922e099483c6"
      },
      "execution_count": 29,
      "outputs": [
        {
          "output_type": "stream",
          "name": "stdout",
          "text": [
            "['False', 'None', 'True', 'and', 'as', 'assert', 'async', 'await', 'break', 'class', 'continue', 'def', 'del', 'elif', 'else', 'except', 'finally', 'for', 'from', 'global', 'if', 'import', 'in', 'is', 'lambda', 'nonlocal', 'not', 'or', 'pass', 'raise', 'return', 'try', 'while', 'with', 'yield']\n"
          ]
        }
      ]
    },
    {
      "cell_type": "code",
      "source": [
        "# 4. Write a program that checks if a given word is a Python keyword?\n",
        "import keyword\n",
        "\n",
        "word = input(\"Enter a word:\")\n",
        "\n",
        "if keyword.iskeyword(word):\n",
        "  print(f\"'{word}' is a python keyword.\")\n",
        "else:\n",
        "    print(f\"'{word}' is not a python keyword.\")\n",
        "\n"
      ],
      "metadata": {
        "colab": {
          "base_uri": "https://localhost:8080/"
        },
        "id": "89BY1vsgu-rE",
        "outputId": "906676bf-826e-4e72-c58a-1ba9b4e5d1b8"
      },
      "execution_count": 30,
      "outputs": [
        {
          "output_type": "stream",
          "name": "stdout",
          "text": [
            "Enter a word:rahul\n",
            "'rahul' is not a python keyword.\n"
          ]
        }
      ]
    },
    {
      "cell_type": "code",
      "source": [
        "# 5. Create a list and tuple in Python, and demonstrate how attempting to change an element works differently for each ?\n",
        "# Creating a list and a tuple\n",
        "my_list = [10, 20, 30]\n",
        "my_tuple = (10, 20, 30)\n",
        "\n",
        "my_list[1] = 99\n",
        "print(\"Modified list:\", my_list)\n",
        "\n",
        "# Attempting to change an element in the tuple (will raise an error)\n",
        "my_tuple[1] = 99  # This will cause an error\n",
        "\n",
        "\n"
      ],
      "metadata": {
        "id": "2AOrqV7CwQgk",
        "colab": {
          "base_uri": "https://localhost:8080/",
          "height": 228
        },
        "outputId": "e740045e-3c6d-473e-f327-3932dd835b16"
      },
      "execution_count": 31,
      "outputs": [
        {
          "output_type": "stream",
          "name": "stdout",
          "text": [
            "Modified list: [10, 99, 30]\n"
          ]
        },
        {
          "output_type": "error",
          "ename": "TypeError",
          "evalue": "'tuple' object does not support item assignment",
          "traceback": [
            "\u001b[0;31m---------------------------------------------------------------------------\u001b[0m",
            "\u001b[0;31mTypeError\u001b[0m                                 Traceback (most recent call last)",
            "\u001b[0;32m<ipython-input-31-2827f661d75c>\u001b[0m in \u001b[0;36m<cell line: 0>\u001b[0;34m()\u001b[0m\n\u001b[1;32m      8\u001b[0m \u001b[0;34m\u001b[0m\u001b[0m\n\u001b[1;32m      9\u001b[0m \u001b[0;31m# Attempting to change an element in the tuple (will raise an error)\u001b[0m\u001b[0;34m\u001b[0m\u001b[0;34m\u001b[0m\u001b[0m\n\u001b[0;32m---> 10\u001b[0;31m \u001b[0mmy_tuple\u001b[0m\u001b[0;34m[\u001b[0m\u001b[0;36m1\u001b[0m\u001b[0;34m]\u001b[0m \u001b[0;34m=\u001b[0m \u001b[0;36m99\u001b[0m  \u001b[0;31m# This will cause an error\u001b[0m\u001b[0;34m\u001b[0m\u001b[0;34m\u001b[0m\u001b[0m\n\u001b[0m\u001b[1;32m     11\u001b[0m \u001b[0;34m\u001b[0m\u001b[0m\n\u001b[1;32m     12\u001b[0m \u001b[0;34m\u001b[0m\u001b[0m\n",
            "\u001b[0;31mTypeError\u001b[0m: 'tuple' object does not support item assignment"
          ]
        }
      ]
    },
    {
      "cell_type": "code",
      "source": [
        "# 6. Write a function to demonstrate the behavior of mutable and immutable arguments\n",
        "def modify_arguments(a_number, a_list):\n",
        "    a_number += 10\n",
        "    a_list.append(99)\n",
        "    return a_number, a_list\n",
        "\n",
        "\n",
        "num = 5\n",
        "\n",
        "lst = [1, 2, 3]\n",
        "\n",
        "\n",
        "new_num, new_lst = modify_arguments(num, lst)\n",
        "\n",
        "print(\"Original number after function call:\", num)\n",
        "print(\"Returned number from function:\", new_num)\n",
        "print(\"Original list after function call:\", lst)\n",
        "print(\"Returned list from function:\", new_lst)\n"
      ],
      "metadata": {
        "colab": {
          "base_uri": "https://localhost:8080/"
        },
        "id": "sOIQlWILonHm",
        "outputId": "3fd4f5b0-d81d-4738-b8b9-d80d7e082f45"
      },
      "execution_count": 32,
      "outputs": [
        {
          "output_type": "stream",
          "name": "stdout",
          "text": [
            "Original number after function call: 5\n",
            "Returned number from function: 15\n",
            "Original list after function call: [1, 2, 3, 99]\n",
            "Returned list from function: [1, 2, 3, 99]\n"
          ]
        }
      ]
    },
    {
      "cell_type": "code",
      "source": [
        "# 7.  Write a program that performs basic arithmetic operations on two user-input numbers.\n",
        "\n",
        "# Take input from the user\n",
        "num1 = float(input(\"Enter first number: \"))\n",
        "num2 = float(input(\"Enter second number: \"))\n",
        "\n",
        "addition = num1 + num2\n",
        "subtraction = num1 - num2\n",
        "multiplication = num1 * num2\n",
        "\n",
        "\n",
        "if num2 != 0:\n",
        "    division = num1 / num2\n",
        "else:\n",
        "    division = \"Undefined (cannot divide by zero)\"\n",
        "\n",
        "print(\"Addition:\", addition)\n",
        "print(\"Subtraction:\", subtraction)\n",
        "print(\"Multiplication:\", multiplication)\n",
        "print(\"Division:\", division)\n"
      ],
      "metadata": {
        "colab": {
          "base_uri": "https://localhost:8080/"
        },
        "id": "GoyEPzwRpBDR",
        "outputId": "54ea0ab2-24f7-436d-ba59-db248b165053"
      },
      "execution_count": 33,
      "outputs": [
        {
          "output_type": "stream",
          "name": "stdout",
          "text": [
            "Enter first number: 55\n",
            "Enter second number: 55\n",
            "Addition: 110.0\n",
            "Subtraction: 0.0\n",
            "Multiplication: 3025.0\n",
            "Division: 1.0\n"
          ]
        }
      ]
    },
    {
      "cell_type": "code",
      "source": [
        "# 8.  Write a program to demonstrate the use of logical operators\n",
        "a = input(\"Enter first value (True/False): \") == \"True\"\n",
        "b = input(\"Enter second value (True/False): \") == \"True\"\n",
        "\n",
        "# Demonstrating logical operators\n",
        "print(\"a AND b:\", a and b)\n",
        "print(\"a OR b:\", a or b)\n",
        "print(\"NOT a:\", not a)\n"
      ],
      "metadata": {
        "colab": {
          "base_uri": "https://localhost:8080/"
        },
        "id": "_P2LGYQ2pRwo",
        "outputId": "2cac586f-fb18-4800-c67b-f11828cfb526"
      },
      "execution_count": 34,
      "outputs": [
        {
          "output_type": "stream",
          "name": "stdout",
          "text": [
            "Enter first value (True/False): false\n",
            "Enter second value (True/False): true\n",
            "a AND b: False\n",
            "a OR b: False\n",
            "NOT a: True\n"
          ]
        }
      ]
    },
    {
      "cell_type": "code",
      "source": [
        "# 9.  Write a Python program to convert user input from string to integer, float, and boolean types.\n",
        "user_input = input(\"Enter a value: \")\n",
        "\n",
        "try:\n",
        "    int_value = int(user_input)\n",
        "except ValueError:\n",
        "    int_value = \"Cannot convert to integer\"\n",
        "\n",
        "try:\n",
        "    float_value = float(user_input)\n",
        "except ValueError:\n",
        "    float_value = \"Cannot convert to float\"\n",
        "\n",
        "\n",
        "bool_value = bool(user_input)\n",
        "\n",
        "print(\"Integer conversion:\", int_value)\n",
        "print(\"Float conversion:\", float_value)\n",
        "print(\"Boolean conversion:\", bool_value)\n"
      ],
      "metadata": {
        "colab": {
          "base_uri": "https://localhost:8080/"
        },
        "id": "tWdAPIprpxLU",
        "outputId": "c74e4e00-7c5f-40e7-8a60-f241481ed6d5"
      },
      "execution_count": 35,
      "outputs": [
        {
          "output_type": "stream",
          "name": "stdout",
          "text": [
            "Enter a value: 55\n",
            "Integer conversion: 55\n",
            "Float conversion: 55.0\n",
            "Boolean conversion: True\n"
          ]
        }
      ]
    },
    {
      "cell_type": "code",
      "source": [
        "# 10. Write code to demonstrate type casting with list elements.\n",
        "\n",
        "string_list = ['10', '20', '30', '40.5']\n",
        "\n",
        "int_list = [int(x) for x in string_list if x.isdigit()]\n",
        "\n",
        "float_list = [float(x) for x in string_list]\n",
        "\n",
        "bool_list = [bool(float(x)) for x in string_list]\n",
        "\n",
        "print(\"Original list (strings):\", string_list)\n",
        "print(\"Converted to integers:\", int_list)\n",
        "print(\"Converted to floats:\", float_list)\n",
        "print(\"Converted to booleans:\", bool_list)\n"
      ],
      "metadata": {
        "colab": {
          "base_uri": "https://localhost:8080/"
        },
        "id": "sR7hldf-qT19",
        "outputId": "25eca821-2f73-4776-f3b1-35c57912469f"
      },
      "execution_count": 36,
      "outputs": [
        {
          "output_type": "stream",
          "name": "stdout",
          "text": [
            "Original list (strings): ['10', '20', '30', '40.5']\n",
            "Converted to integers: [10, 20, 30]\n",
            "Converted to floats: [10.0, 20.0, 30.0, 40.5]\n",
            "Converted to booleans: [True, True, True, True]\n"
          ]
        }
      ]
    },
    {
      "cell_type": "code",
      "source": [
        "# 11.Write a program that checks if a number is positive, negative, or zero.\n",
        "num = float(input(\"Enter a number: \"))\n",
        "\n",
        "if num > 0:\n",
        "    print(\"The number is positive.\")\n",
        "elif num < 0:\n",
        "    print(\"The number is negative.\")\n",
        "else:\n",
        "    print(\"The number is zero.\")\n"
      ],
      "metadata": {
        "colab": {
          "base_uri": "https://localhost:8080/"
        },
        "id": "WV4D4BVjr1DT",
        "outputId": "0e25eb5d-04c2-4a13-a8f6-5744260b60b8"
      },
      "execution_count": 37,
      "outputs": [
        {
          "output_type": "stream",
          "name": "stdout",
          "text": [
            "Enter a number: 22\n",
            "The number is positive.\n"
          ]
        }
      ]
    },
    {
      "cell_type": "code",
      "source": [
        "# 12. Write a for loop to print numbers from 1 to 10.\n",
        "for i in range(1, 11):\n",
        "    print(i)\n"
      ],
      "metadata": {
        "colab": {
          "base_uri": "https://localhost:8080/"
        },
        "id": "iQJpEKZDsIdI",
        "outputId": "5abf3262-dbc5-48ad-e554-2ed6c96431b8"
      },
      "execution_count": 38,
      "outputs": [
        {
          "output_type": "stream",
          "name": "stdout",
          "text": [
            "1\n",
            "2\n",
            "3\n",
            "4\n",
            "5\n",
            "6\n",
            "7\n",
            "8\n",
            "9\n",
            "10\n"
          ]
        }
      ]
    },
    {
      "cell_type": "code",
      "source": [
        "# 13.  Write a Python program to find the sum of all even numbers between 1 and 50.\n",
        "even_sum = 0\n",
        "\n",
        "for i in range(2, 51, 2):  # Start at 2, go up to 50, step by 2\n",
        "    even_sum += i\n",
        "\n",
        "print(\"Sum of even numbers from 1 to 50 is:\", even_sum)\n"
      ],
      "metadata": {
        "colab": {
          "base_uri": "https://localhost:8080/"
        },
        "id": "L3X2nK1Bsei5",
        "outputId": "567c3f14-d585-4f6e-9b75-19fe33a5446a"
      },
      "execution_count": 39,
      "outputs": [
        {
          "output_type": "stream",
          "name": "stdout",
          "text": [
            "Sum of even numbers from 1 to 50 is: 650\n"
          ]
        }
      ]
    },
    {
      "cell_type": "code",
      "source": [
        "# 14. Write a program to reverse a string using a while loop.\n",
        "\n",
        "text = input(\"Enter a string: \")\n",
        "\n",
        "reversed_text = \"\"\n",
        "index = len(text) - 1\n",
        "\n",
        "while index >= 0:\n",
        "    reversed_text += text[index]\n",
        "    index -= 1\n",
        "\n",
        "print(\"Reversed string:\", reversed_text)\n"
      ],
      "metadata": {
        "colab": {
          "base_uri": "https://localhost:8080/"
        },
        "id": "tmKRqOhqtLtf",
        "outputId": "14828dce-e88e-46e2-8a56-26532e2d1d35"
      },
      "execution_count": 40,
      "outputs": [
        {
          "output_type": "stream",
          "name": "stdout",
          "text": [
            "Enter a string: rahul \n",
            "Reversed string:  luhar\n"
          ]
        }
      ]
    },
    {
      "cell_type": "code",
      "source": [
        "# 15. # Take input from the user\n",
        "num = int(input(\"Enter a number: \"))\n",
        "factorial = 1\n",
        "n = num\n",
        "while n > 1:\n",
        "    factorial *= n\n",
        "    n -= 1\n",
        "\n",
        "print(f\"Factorial of {num} is: {factorial}\")\n"
      ],
      "metadata": {
        "colab": {
          "base_uri": "https://localhost:8080/"
        },
        "id": "bpStZWLAtm_c",
        "outputId": "1c06e6db-b585-4a08-9a16-2307e04abb04"
      },
      "execution_count": 41,
      "outputs": [
        {
          "output_type": "stream",
          "name": "stdout",
          "text": [
            "Enter a number: 55\n",
            "Factorial of 55 is: 12696403353658275925965100847566516959580321051449436762275840000000000000\n"
          ]
        }
      ]
    },
    {
      "cell_type": "code",
      "source": [],
      "metadata": {
        "id": "ybHzK2-7uCSX"
      },
      "execution_count": null,
      "outputs": []
    }
  ]
}